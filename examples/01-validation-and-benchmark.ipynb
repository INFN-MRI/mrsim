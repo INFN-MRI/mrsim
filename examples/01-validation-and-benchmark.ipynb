{
 "cells": [
  {
   "cell_type": "markdown",
   "id": "6d1890ce-0c40-4804-896c-2fe8c7a0e79d",
   "metadata": {},
   "source": [
    "# EPG Benchmark"
   ]
  },
  {
   "cell_type": "markdown",
   "id": "f99a417f-7c4c-4630-89cd-9d6b96846da8",
   "metadata": {},
   "source": [
    "We will compare accuracy and runtime with [Sycomore](https://sycomore.readthedocs.io/en/latest/epg/index.html) and [mri-sim-py](https://github.com/utcsilab/mri-sim-py). We will simulate a Fast Spin Echo acquisition for Myelin Water Fraction mapping (with and without exchange between myelin water and free water).\n",
    "\n",
    "First, we define some utilities to plot signals:"
   ]
  },
  {
   "cell_type": "code",
   "execution_count": 1,
   "id": "76cb2511-d982-428a-8af9-6adac46af821",
   "metadata": {},
   "outputs": [],
   "source": [
    "%matplotlib inline\n",
    "        \n",
    "import numpy as np\n",
    "import matplotlib.pyplot as plt\n",
    "\n",
    "# plotting\n",
    "def display_signal(input, legend=None, symbol='-', color=None):\n",
    "    if color is not None:\n",
    "        plt.gca().set_prop_cycle(plt.cycler(\"color\", color))\n",
    "    plt.plot(abs(input), symbol)\n",
    "    plt.xlim([0, len(input)])\n",
    "    plt.xlabel(\"TR index\")\n",
    "    plt.ylabel(\"signal magnitude [a.u.]\")\n",
    "    if legend is not None:\n",
    "        plt.legend(legend)\n",
    "    plt.tight_layout()"
   ]
  },
  {
   "cell_type": "markdown",
   "id": "2104bcb5-666e-4a4f-8fdf-01c56dab47e0",
   "metadata": {},
   "source": [
    "## Reference implementation\n",
    "\n",
    "Reference implementations of using [mri-sim-py](mri-sim-py](https://github.com/utcsilab/mri-sim-py) (Pytorch backend, GPU-accelerated, no exchange, magnetization transfer or flow) and [Sycomore](https://sycomore.readthedocs.io/en/latest/epg/index.html) (C++ backend, CPU-only, not parallelized across multiple atoms, accounts for exchange, magnetization transfer and flow)."
   ]
  },
  {
   "cell_type": "code",
   "execution_count": null,
   "id": "d1087718-0790-4cb6-b2b0-19c1d9053baa",
   "metadata": {},
   "outputs": [],
   "source": [
    "# load ground truth EPG-X data\n",
    "import scipy\n",
    "\n",
    "ground_truth = scipy.io.loadmat(\"notebooks/epgxsignal.mat\")\n",
    "sig0noex = ground_truth[\"s0\"]  \n",
    "sig0ex = ground_truth[\"s\"]  "
   ]
  },
  {
   "cell_type": "code",
   "execution_count": 2,
   "id": "4f00130c-a14f-4f03-ba7e-b074db16b050",
   "metadata": {},
   "outputs": [],
   "source": [
    "# mri-sim-py implementation\n",
    "import torch\n",
    "import mrisimpy as simpy\n",
    "\n",
    "def mrisimpy_fse(flip, phases, ESP, T1, T2, device):\n",
    "    # sequence parameters\n",
    "    flip = torch.as_tensor(flip, dtype=torch.float32, device=device)\n",
    "    phases = torch.as_tensor(phases, dtype=torch.float32, device=device)\n",
    "\n",
    "    # convert to array  \n",
    "    T1 = torch.atleast_1d(torch.as_tensor(T1, dtype=torch.float32, device=device)) \n",
    "    T2 = torch.atleast_1d(torch.as_tensor(T2, dtype=torch.float32, device=device))\n",
    "    \n",
    "    # broadcast\n",
    "    T1, T2 = torch.broadcast_tensors(T1, T2)\n",
    "\n",
    "   # do computation\n",
    "    signal = simpy.\n",
    "\n"
   ]
  },
  {
   "cell_type": "code",
   "execution_count": 9,
   "id": "e7d51173-031e-46e8-86c4-8a2088bec418",
   "metadata": {},
   "outputs": [],
   "source": [
    "# Sycomore implementation\n",
    "import multiprocess as mp\n",
    "import time\n",
    "\n",
    "import sycomore\n",
    "from sycomore.units import *\n",
    "\n",
    "def _sycomore_fse(flip, ESP, T1, T2, T1b=None, T2b=None, k=None, fb=None):\n",
    "    # parse \n",
    "    npulses = flip.shape[0]\n",
    "    \n",
    "    # initialize spin system\n",
    "    if T1b is None:\n",
    "        species = sycomore.Species(T1, T2)\n",
    "\n",
    "        # initialize model\n",
    "        model = sycomore.epg.Regular(species)\n",
    "    else:\n",
    "        species_a = sycomore.Species(T1, T2)\n",
    "        species_b = sycomore.Species(T1b, T2b)\n",
    "        M0a = np.asarray([0.0, 0.0, 1-fb], dtype=np.float64)\n",
    "        M0b = np.asarray([0.0, 0.0, fb], dtype=np.float64)\n",
    "        k_a = k * fb\n",
    "\n",
    "        # initialize model\n",
    "        model = sycomore.epg.Regular(species_a, species_b, M0a, M0b, k_a)\n",
    "    \n",
    "    # initialize output\n",
    "    signal = np.zeros(npulses, dtype=np.complex64)\n",
    "\n",
    "    # excitation\n",
    "    model.apply_pulse(90.0 * deg)\n",
    "    \n",
    "    # loop over flip angles\n",
    "    for n in range(npulses):\n",
    "        \n",
    "        # apply relaxation\n",
    "        model.relaxation(0.5 * ESP)\n",
    "\n",
    "        # shift states\n",
    "        model.shift()\n",
    "        \n",
    "        # apply rf\n",
    "        model.apply_pulse(flip[n])\n",
    "\n",
    "        # shift states\n",
    "        model.shift()\n",
    "\n",
    "        # apply relaxation\n",
    "        model.relaxation(0.5 * ESP)\n",
    "\n",
    "        # record signal\n",
    "        signal[n] = model.echo\n",
    "\n",
    "    return signal\n",
    "    \n",
    "def sycomore_fse(flip, phases, ESP, T1, T2, T1b=None, T2b=None, k=None, fb=None, verbose=False, parallel=False):\n",
    "\n",
    "    # sequence parameters\n",
    "    flip = np.asarray(flip) * deg\n",
    "    ESP = ESP * ms\n",
    "\n",
    "    # convert to array  \n",
    "    T1 = np.atleast_1d(np.asarray(T1)) \n",
    "    T2 = np.atleast_1d(np.asarray(T2))\n",
    "\n",
    "    if T1b is not None:\n",
    "        T1b = np.atleast_1d(np.asarray(T1b)) \n",
    "        T2b = np.atleast_1d(np.asarray(T2b))\n",
    "        k = np.atleast_1d(np.asarray(k))\n",
    "        fb = np.atleast_1d(np.asarray(fb))\n",
    "        \n",
    "    # broadcast\n",
    "    if T1b is None:\n",
    "        T1, T2 = np.broadcast_arrays(T1, T2)\n",
    "    else:\n",
    "        T1, T2, T1b, T2b, k, fb = np.broadcast_arrays(T1, T2, T1b, T2b, k, fb)\n",
    "\n",
    "    # units\n",
    "    T1 = T1 * ms\n",
    "    T2 = T2 * ms\n",
    "\n",
    "    if T1b is not None:\n",
    "        T1b = T1b * ms\n",
    "        T2b = T2b * ms\n",
    "        k = k * Hz\n",
    "\n",
    "    # get natoms\n",
    "    natoms = T1.shape[0]\n",
    "    \n",
    "    # run\n",
    "    if parallel is False:\n",
    "        engine = _sycomore_fse\n",
    "        t0 = time.time()\n",
    "        if T1b is None:\n",
    "            signal = [engine(flip, ESP, T1[n], T2[n]) for n in range(natoms)]\n",
    "        else:\n",
    "            signal = [engine(flip, ESP, T1[n], T2[n], T1b[n], T2b[n], k[n], fb[n]) for n in range(natoms)]\n",
    "        t1 = time.time()\n",
    "        if verbose:\n",
    "            return np.stack(signal, axis=0).squeeze(), t1-t0\n",
    "        else:\n",
    "            return np.stack(signal, axis=0).squeeze()\n",
    "    else:\n",
    "        if T1b is None:\n",
    "            engine = lambda t1, t2 : _sycomore_fse(flip, TR, t1, t2)\n",
    "        else:\n",
    "            engine = lambda t1, t2, t1b, t2b, kk, ff : _sycomore_fse(flip, TR, t1, t2, t1b, t2b, kk, ff)\n",
    "        t0 = time.time()\n",
    "        if T1b is None:\n",
    "            with mp.Pool(mp.cpu_count()) as p:\n",
    "                signal = p.starmap(engine, zip(T1, T2))\n",
    "        else:\n",
    "            with mp.Pool(mp.cpu_count()) as p:\n",
    "                signal = p.starmap(engine, zip(T1, T2, T1b, T2b, k, fb))\n",
    "        t1 = time.time()\n",
    "        if verbose:\n",
    "            return np.stack(signal, axis=0), t1-t0\n",
    "        else:\n",
    "            return np.stack(signal, axis=0)\n",
    "        "
   ]
  },
  {
   "cell_type": "markdown",
   "id": "8381718e-c139-4164-8cb5-0ca368e312fc",
   "metadata": {},
   "source": [
    "## Validation"
   ]
  },
  {
   "cell_type": "code",
   "execution_count": 15,
   "id": "222f61cf-2268-4102-b123-131cf53aba19",
   "metadata": {},
   "outputs": [],
   "source": [
    "import epgtorchx as epgx\n",
    "\n",
    "# parameters\n",
    "flip = 50 * [180.0]\n",
    "phases = 50 * [0.0]\n",
    "ESP = 5.0\n",
    "\n",
    "T1 = 1000.0 # [500.0, 833.0, 2569.0]\n",
    "T2 = 100.0  # \n",
    "\n",
    "T1b = 500.0 # ms \n",
    "T2b = 20.0 # ms \n",
    "\n",
    "f = 0.2\n",
    "k = 10.0 # Hz  \n",
    "\n",
    "# computation\n",
    "# sig0, rt0 = sycomore_fse(False, flip, phases, ESP, T1, T2, T1b, T2b, k, f, verbose=True)\n",
    "sig0, rt1 = epgx.fse(flip, phases, ESP, T1, T2, verbose=True)\n",
    "sig1, rt1 = epgx.fse(flip, phases, ESP, T1, T2, T1bm=T1b, T2bm=T2b, kbm=k, weight_bm=f, verbose=True)"
   ]
  },
  {
   "cell_type": "code",
   "execution_count": 16,
   "id": "83fb18d1-71e6-4728-a84f-6295709baf68",
   "metadata": {},
   "outputs": [
    {
     "name": "stdout",
     "output_type": "stream",
     "text": [
      "0.00049591064453125\n",
      "{'trun': 0.13273906707763672}\n"
     ]
    }
   ],
   "source": [
    "print(rt0)\n",
    "print(rt1)"
   ]
  },
  {
   "cell_type": "code",
   "execution_count": 17,
   "id": "843a8365-eb9d-465b-9c64-898fe4e69d83",
   "metadata": {},
   "outputs": [
    {
     "data": {
      "text/plain": [
       "(None, None)"
      ]
     },
     "execution_count": 17,
     "metadata": {},
     "output_type": "execute_result"
    },
    {
     "data": {
      "image/png": "[encoded data removed]",
      "text/plain": [
       "<Figure size 432x288 with 1 Axes>"
      ]
     },
     "metadata": {},
     "output_type": "display_data"
    }
   ],
   "source": [
    "display_signal(sig0.T, color=[\"b\"], symbol='.'), display_signal(sig1.T, color=[\"b\", \"r\", \"g\"], symbol='-', legend=[\"Sycomore\", \"Torch-EPG-X\"])"
   ]
  },
  {
   "cell_type": "markdown",
   "id": "8454f2d8-eb98-4e09-a43b-65b3c4bac426",
   "metadata": {},
   "source": [
    "## Benchmark"
   ]
  },
  {
   "cell_type": "code",
   "execution_count": 7,
   "id": "db098c29-9721-4489-ab17-14f8710b4080",
   "metadata": {},
   "outputs": [],
   "source": [
    "# define grid of values\n",
    "T1 = np.linspace(200.0, 1500.0, 65536)\n",
    "T2 = 50.0\n",
    "\n",
    "# run sycomore\n",
    "sig0, runtime0 = ssfp_sim(flip, TR, T1, T2)\n",
    "\n",
    "# run deepmr\n",
    "sig1, runtime1 = bloch.ssfp_sim(flip, TR, T1, T2)\n",
    "sig2, runtime2 = bloch.ssfp_sim(flip, TR, T1, T2, device=\"cuda:0\")\n"
   ]
  },
  {
   "cell_type": "code",
   "execution_count": 12,
   "id": "07afb06d-4dee-4979-a9d5-c5cf1833f527",
   "metadata": {},
   "outputs": [
    {
     "ename": "TypeError",
     "evalue": "Axes.bar_label() missing 1 required positional argument: 'container'",
     "output_type": "error",
     "traceback": [
      "Traceback \u001b[0;36m(most recent call last)\u001b[0m:\n",
      "\u001b[0;36m  Cell \u001b[0;32mIn[12], line 19\u001b[0;36m\n\u001b[0;31m    ax.bar_label(padding=3, fontsize=20)\u001b[0;36m\n",
      "\u001b[0;31mTypeError\u001b[0m\u001b[0;31m:\u001b[0m Axes.bar_label() missing 1 required positional argument: 'container'\n"
     ]
    },
    {
     "data": {
      "image/png": "[encoded data removed]",
      "text/plain": [
       "<Figure size 432x288 with 1 Axes>"
      ]
     },
     "metadata": {},
     "output_type": "display_data"
    }
   ],
   "source": [
    "# define labels\n",
    "labels = ['reference EPG', 'deepmr EPG (CPU)', 'deepmr EPG (GPU)']\n",
    "runtimes = [round(runtime0, 2), round(runtime1, 2), round(runtime2, 2)]\n",
    "\n",
    "x = np.arange(len(labels))  # the label locations\n",
    "width = 0.35  # the width of the bars\n",
    "\n",
    "fig, ax = plt.subplots()\n",
    "rects = ax.bar(x, runtimes, width)\n",
    "\n",
    "# Add some text for labels, title and custom x-axis tick labels, etc.\n",
    "ax.set_ylabel('Execution Time [s]', fontsize=20)\n",
    "ax.set_title('Benchmark', fontsize=20)\n",
    "ax.set_xticks(x)\n",
    "ax.set_xticklabels(labels)\n",
    "ax.set_ylim([0.0, 25.0])\n",
    "\n",
    "ax.bar_label(rects, padding=3, fontsize=20)\n",
    "ax.bar_label(padding=3, fontsize=20)\n",
    "\n",
    "fig.tight_layout()"
   ]
  },
  {
   "cell_type": "code",
   "execution_count": null,
   "id": "c38c909f-7a70-448c-8d52-a05830dbb248",
   "metadata": {},
   "outputs": [],
   "source": []
  }
 ],
 "metadata": {
  "kernelspec": {
   "display_name": "Python 3 (Spyder)",
   "language": "python3",
   "name": "python3"
  },
  "language_info": {
   "codemirror_mode": {
    "name": "ipython",
    "version": 3
   },
   "file_extension": ".py",
   "mimetype": "text/x-python",
   "name": "python",
   "nbconvert_exporter": "python",
   "pygments_lexer": "ipython3",
   "version": "3.9.18"
  }
 },
 "nbformat": 4,
 "nbformat_minor": 5
}
